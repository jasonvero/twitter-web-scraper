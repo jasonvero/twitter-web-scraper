{
 "cells": [
  {
   "cell_type": "markdown",
   "id": "d8f4e554",
   "metadata": {},
   "source": [
    "# Notebook Author: Jason Isberto"
   ]
  },
  {
   "cell_type": "code",
   "execution_count": 1,
   "id": "92fca35c",
   "metadata": {},
   "outputs": [
    {
     "name": "stdout",
     "output_type": "stream",
     "text": [
      "Collecting tweepy\n",
      "  Downloading tweepy-3.10.0-py2.py3-none-any.whl (30 kB)\n",
      "Requirement already satisfied: requests[socks]>=2.11.1 in /opt/anaconda3/lib/python3.8/site-packages (from tweepy) (2.25.1)\n",
      "Collecting requests-oauthlib>=0.7.0\n",
      "  Downloading requests_oauthlib-1.3.0-py2.py3-none-any.whl (23 kB)\n",
      "Requirement already satisfied: six>=1.10.0 in /opt/anaconda3/lib/python3.8/site-packages (from tweepy) (1.15.0)\n",
      "Collecting oauthlib>=3.0.0\n",
      "  Downloading oauthlib-3.1.1-py2.py3-none-any.whl (146 kB)\n",
      "\u001b[K     |████████████████████████████████| 146 kB 1.1 MB/s eta 0:00:01\n",
      "\u001b[?25hRequirement already satisfied: certifi>=2017.4.17 in /opt/anaconda3/lib/python3.8/site-packages (from requests[socks]>=2.11.1->tweepy) (2020.12.5)\n",
      "Requirement already satisfied: urllib3<1.27,>=1.21.1 in /opt/anaconda3/lib/python3.8/site-packages (from requests[socks]>=2.11.1->tweepy) (1.26.4)\n",
      "Requirement already satisfied: chardet<5,>=3.0.2 in /opt/anaconda3/lib/python3.8/site-packages (from requests[socks]>=2.11.1->tweepy) (4.0.0)\n",
      "Requirement already satisfied: idna<3,>=2.5 in /opt/anaconda3/lib/python3.8/site-packages (from requests[socks]>=2.11.1->tweepy) (2.10)\n",
      "Requirement already satisfied: PySocks!=1.5.7,>=1.5.6 in /opt/anaconda3/lib/python3.8/site-packages (from requests[socks]>=2.11.1->tweepy) (1.7.1)\n",
      "Installing collected packages: oauthlib, requests-oauthlib, tweepy\n",
      "Successfully installed oauthlib-3.1.1 requests-oauthlib-1.3.0 tweepy-3.10.0\n"
     ]
    }
   ],
   "source": [
    "# Pip install Tweepy if you don't already have the package\n",
    "\n",
    "!pip install tweepy"
   ]
  },
  {
   "cell_type": "markdown",
   "id": "0d0a6c93",
   "metadata": {},
   "source": [
    "# Credentials and Authorization"
   ]
  },
  {
   "cell_type": "code",
   "execution_count": 9,
   "id": "cee86760",
   "metadata": {},
   "outputs": [],
   "source": [
    "# Imports\n",
    "\n",
    "import tweepy\n",
    "import pandas as pd\n",
    "import time"
   ]
  },
  {
   "cell_type": "code",
   "execution_count": null,
   "id": "da3b74e0",
   "metadata": {},
   "outputs": [],
   "source": [
    "# Credentials\n",
    "\n",
    "consumer_key = \"XYtWcaQnwwJrvroOdNc4NjFqq\"\n",
    "consumer_secret = \"Oq234LIo8tTYNlykvL91jqgyYnkaaManDicr8q9wOM1OiV2iw1\"\n",
    "access_token = \"1179254091521941508-lem5mwJWaC7Xt07zSqGY12c9EIPccg\"\n",
    "access_token_secret = \"17CycTAJqSj20OufgLZwT9rnc9lePCuDhZaABtU4gWU88\"\n",
    "\n",
    "# Authorization of consumer key and consumery secret\n",
    "auth = tweepy.OAuthHandler(consumer_key, consumer_secret)\n",
    "\n",
    "# Set access to user's access key and access secret\n",
    "auth.set_access_token(access_token, access_token_secret)\n",
    "\n",
    "# Calling the API\n",
    "api = tweepy.API(auth,wait_on_rate_limit=True)"
   ]
  },
  {
   "cell_type": "markdown",
   "id": "905115fa",
   "metadata": {},
   "source": [
    "# Fetch Favorites of Users"
   ]
  },
  {
   "cell_type": "code",
   "execution_count": 93,
   "id": "cd49f9cc",
   "metadata": {},
   "outputs": [
    {
     "name": "stdout",
     "output_type": "stream",
     "text": [
      "The number of tweets that jasonvero has liked are: 1538\n",
      "The number of tweets that elonmusk has liked are: 9028\n"
     ]
    }
   ],
   "source": [
    "# Get User ID\n",
    "user = api.get_user(screen_name = 'jasonvero')\n",
    "user2 = api.get_user(screen_name = 'elonmusk')\n",
    "\n",
    "# Fetch favorites count attribute\n",
    "favourites_count = user.favourites_count\n",
    "favourites_count2 = user2.favourites_count\n",
    "\n",
    "print(\"The number of tweets that\", username,\"has liked are: \" + str(favourites_count))\n",
    "print(\"The number of tweets that\", username2,\"has liked are: \" + str(favourites_count2))\n"
   ]
  },
  {
   "cell_type": "code",
   "execution_count": 92,
   "id": "48a0fe71",
   "metadata": {},
   "outputs": [
    {
     "name": "stdout",
     "output_type": "stream",
     "text": [
      "suminohh\n",
      "gauravgulati9c\n",
      "DustinVo10\n",
      "KDineshChitra\n",
      "suminohh\n",
      "suminohh\n",
      "suminohh\n",
      "akira_rafhael\n",
      "anyachocolat\n",
      "daniellabrito26\n",
      "balalaikagrunge\n",
      "moondaawg\n",
      "daniellabrito26\n",
      "annebonnerdata\n",
      "AntoneEvansJr\n",
      "_liamconnors\n",
      "Nobre_Lucas18\n",
      "augusto_dn\n",
      "KehalHoussem\n",
      "rpmandrekar\n"
     ]
    }
   ],
   "source": [
    "# Getting the Liked statuses\n",
    "favorites = api.favorites()\n",
    "\n",
    "# printing the screen names of the status posters\n",
    "for status in favorites:\n",
    "    print(status.user.screen_name)"
   ]
  },
  {
   "cell_type": "markdown",
   "id": "d39c794f",
   "metadata": {},
   "source": [
    "# Query by Username\n",
    "Creation of queries using Tweepy API\n",
    "\n",
    "Function is focused on completing the query then providing a CSV file of that query using pandas"
   ]
  },
  {
   "cell_type": "code",
   "execution_count": 74,
   "id": "e0924a42",
   "metadata": {},
   "outputs": [],
   "source": [
    "tweets = []\n",
    "\n",
    "def username_tweets_to_csv(username,count):\n",
    "    try:      \n",
    "        # Creation of query method using parameters\n",
    "        tweets = tweepy.Cursor(api.user_timeline,id=username).items(count)\n",
    "\n",
    "        # Pulling information from tweets iterable object\n",
    "        tweets_list = [[tweet.created_at, tweet.id, tweet.text] for tweet in tweets]\n",
    "\n",
    "        # Creation of dataframe from tweets list\n",
    "        # Add or remove columns as you remove tweet information\n",
    "        tweets_df = pd.DataFrame(tweets_list,columns=['Datetime', 'Tweet Id', 'Text'])\n",
    "\n",
    "        # Converting dataframe to CSV \n",
    "        tweets_df.to_csv('{}-tweets.csv'.format(username, username2), sep=',', index = False)\n",
    "\n",
    "    except BaseException as e:\n",
    "          print('failed on_status,',str(e))\n",
    "          time.sleep(3)"
   ]
  },
  {
   "cell_type": "code",
   "execution_count": 78,
   "id": "76644104",
   "metadata": {},
   "outputs": [],
   "source": [
    "# Input username to scrape tweets and name csv file\n",
    "# Max recent tweets pulls x amount of most recent tweets from that user\n",
    "username = 'jasonvero'\n",
    "count = 400\n",
    "\n",
    "# Calling function to turn username's past X amount of tweets into a CSV file\n",
    "username_tweets_to_csv(username, count)"
   ]
  },
  {
   "cell_type": "code",
   "execution_count": 94,
   "id": "342e1ea2",
   "metadata": {},
   "outputs": [],
   "source": [
    "username2 = 'elonmusk'"
   ]
  },
  {
   "cell_type": "markdown",
   "id": "c19ef133",
   "metadata": {},
   "source": [
    "# Query by Text Search\n",
    "\n",
    "Function is focused on completing the query then providing a CSV file of that query using pandas"
   ]
  },
  {
   "cell_type": "code",
   "execution_count": 15,
   "id": "441174fa",
   "metadata": {},
   "outputs": [],
   "source": [
    "tweets = []\n",
    "\n",
    "def text_query_to_csv(text_query,count):\n",
    "    try:\n",
    "        # Creation of query method using parameters\n",
    "        tweets = tweepy.Cursor(api.search,q=text_query).items(count)\n",
    "\n",
    "        # Pulling information from tweets iterable object\n",
    "        tweets_list = [[tweet.created_at, tweet.id, tweet.text] for tweet in tweets]\n",
    "\n",
    "        # Creation of dataframe from tweets list\n",
    "        # Add or remove columns as you remove tweet information\n",
    "        tweets_df = pd.DataFrame(tweets_list,columns=['Datetime', 'Tweet Id', 'Text'])\n",
    "\n",
    "        # Converting dataframe to CSV \n",
    "        tweets_df.to_csv('{}-tweets.csv'.format(text_query), sep=',', index = False)\n",
    "\n",
    "    except BaseException as e:\n",
    "        print('failed on_status,',str(e))\n",
    "        time.sleep(3)\n"
   ]
  },
  {
   "cell_type": "code",
   "execution_count": 16,
   "id": "6538f403",
   "metadata": {},
   "outputs": [],
   "source": [
    "# Input search query to scrape tweets and name csv file\n",
    "# Max recent tweets pulls x amount of most recent tweets from that user\n",
    "text_query = 'Bitcoin'\n",
    "count = 400\n",
    "\n",
    "# Calling function to query X amount of relevant tweets and create a CSV file\n",
    "text_query_to_csv(text_query, count)"
   ]
  },
  {
   "cell_type": "code",
   "execution_count": 17,
   "id": "6c200d34",
   "metadata": {},
   "outputs": [
    {
     "data": {
      "text/plain": [
       "(302, 3)"
      ]
     },
     "execution_count": 17,
     "metadata": {},
     "output_type": "execute_result"
    }
   ],
   "source": [
    "jason_tweets = pd.read_csv(\"/Users/jasonisberto/jasonvero-tweets.csv\")\n",
    "\n",
    "jason_tweets.shape"
   ]
  },
  {
   "cell_type": "code",
   "execution_count": 18,
   "id": "bfed70e6",
   "metadata": {},
   "outputs": [
    {
     "data": {
      "text/html": [
       "<div>\n",
       "<style scoped>\n",
       "    .dataframe tbody tr th:only-of-type {\n",
       "        vertical-align: middle;\n",
       "    }\n",
       "\n",
       "    .dataframe tbody tr th {\n",
       "        vertical-align: top;\n",
       "    }\n",
       "\n",
       "    .dataframe thead th {\n",
       "        text-align: right;\n",
       "    }\n",
       "</style>\n",
       "<table border=\"1\" class=\"dataframe\">\n",
       "  <thead>\n",
       "    <tr style=\"text-align: right;\">\n",
       "      <th></th>\n",
       "      <th>Datetime</th>\n",
       "      <th>Tweet Id</th>\n",
       "      <th>Text</th>\n",
       "    </tr>\n",
       "  </thead>\n",
       "  <tbody>\n",
       "    <tr>\n",
       "      <th>0</th>\n",
       "      <td>2021-06-13 17:01:36</td>\n",
       "      <td>1404121788066549766</td>\n",
       "      <td>@suminohh That’s awesome, Sumin! Sounds like y...</td>\n",
       "    </tr>\n",
       "    <tr>\n",
       "      <th>1</th>\n",
       "      <td>2021-06-13 04:16:34</td>\n",
       "      <td>1403929263175307267</td>\n",
       "      <td>Day 42 - of #66DaysOfData\\nDay 22 - of #66Days...</td>\n",
       "    </tr>\n",
       "    <tr>\n",
       "      <th>2</th>\n",
       "      <td>2021-06-12 09:48:43</td>\n",
       "      <td>1403650461182332928</td>\n",
       "      <td>Day41 - or #66daysofdata \\nDay 21 - or #66days...</td>\n",
       "    </tr>\n",
       "    <tr>\n",
       "      <th>3</th>\n",
       "      <td>2021-06-11 16:00:40</td>\n",
       "      <td>1403381680262549510</td>\n",
       "      <td>@suminohh You got this!</td>\n",
       "    </tr>\n",
       "    <tr>\n",
       "      <th>4</th>\n",
       "      <td>2021-06-11 15:57:34</td>\n",
       "      <td>1403380900654718977</td>\n",
       "      <td>@wholegraingoats https://t.co/lJZsZEx9zF</td>\n",
       "    </tr>\n",
       "  </tbody>\n",
       "</table>\n",
       "</div>"
      ],
      "text/plain": [
       "              Datetime             Tweet Id  \\\n",
       "0  2021-06-13 17:01:36  1404121788066549766   \n",
       "1  2021-06-13 04:16:34  1403929263175307267   \n",
       "2  2021-06-12 09:48:43  1403650461182332928   \n",
       "3  2021-06-11 16:00:40  1403381680262549510   \n",
       "4  2021-06-11 15:57:34  1403380900654718977   \n",
       "\n",
       "                                                Text  \n",
       "0  @suminohh That’s awesome, Sumin! Sounds like y...  \n",
       "1  Day 42 - of #66DaysOfData\\nDay 22 - of #66Days...  \n",
       "2  Day41 - or #66daysofdata \\nDay 21 - or #66days...  \n",
       "3                            @suminohh You got this!  \n",
       "4           @wholegraingoats https://t.co/lJZsZEx9zF  "
      ]
     },
     "execution_count": 18,
     "metadata": {},
     "output_type": "execute_result"
    }
   ],
   "source": [
    "jason_tweets.head()"
   ]
  },
  {
   "cell_type": "code",
   "execution_count": 20,
   "id": "60a8db6a",
   "metadata": {},
   "outputs": [
    {
     "data": {
      "text/plain": [
       "0      @suminohh That’s awesome, Sumin! Sounds like y...\n",
       "1      Day 42 - of #66DaysOfData\\nDay 22 - of #66Days...\n",
       "2      Day41 - or #66daysofdata \\nDay 21 - or #66days...\n",
       "3                                @suminohh You got this!\n",
       "4               @wholegraingoats https://t.co/lJZsZEx9zF\n",
       "                             ...                        \n",
       "297    Sunday is slowly turning into Monday. \\n\\nDo n...\n",
       "298    Be honest with yourself. Where are you lacking...\n",
       "299    Whatever your goal is, follow the 5-minute rul...\n",
       "300    To establish a habit, be disciplined. As motiv...\n",
       "301    Do you listen only to speak, or do you listen ...\n",
       "Name: Text, Length: 302, dtype: object"
      ]
     },
     "execution_count": 20,
     "metadata": {},
     "output_type": "execute_result"
    }
   ],
   "source": [
    "jason_tweets.Text"
   ]
  },
  {
   "cell_type": "code",
   "execution_count": 22,
   "id": "2d6b4622",
   "metadata": {},
   "outputs": [
    {
     "data": {
      "text/plain": [
       "0      @suminohh That’s awesome, Sumin! Sounds like y...\n",
       "1      Day 42 - of #66DaysOfData\\nDay 22 - of #66Days...\n",
       "2      Day41 - or #66daysofdata \\nDay 21 - or #66days...\n",
       "3                                @suminohh You got this!\n",
       "4               @wholegraingoats https://t.co/lJZsZEx9zF\n",
       "                             ...                        \n",
       "297    Sunday is slowly turning into Monday. \\n\\nDo n...\n",
       "298    Be honest with yourself. Where are you lacking...\n",
       "299    Whatever your goal is, follow the 5-minute rul...\n",
       "300    To establish a habit, be disciplined. As motiv...\n",
       "301    Do you listen only to speak, or do you listen ...\n",
       "Name: Text, Length: 302, dtype: object"
      ]
     },
     "execution_count": 22,
     "metadata": {},
     "output_type": "execute_result"
    }
   ],
   "source": [
    "# Accessing values using indexing [] operator\n",
    "jason_tweets['Text']"
   ]
  },
  {
   "cell_type": "code",
   "execution_count": 27,
   "id": "04b2948e",
   "metadata": {},
   "outputs": [
    {
     "data": {
      "text/plain": [
       "count                                                   302\n",
       "unique                                                  302\n",
       "top       Happy Monday! Keep moving forward, one step at...\n",
       "freq                                                      1\n",
       "Name: Text, dtype: object"
      ]
     },
     "execution_count": 27,
     "metadata": {},
     "output_type": "execute_result"
    }
   ],
   "source": [
    "jason_tweets.Text.describe()"
   ]
  },
  {
   "cell_type": "code",
   "execution_count": null,
   "id": "31808db6",
   "metadata": {},
   "outputs": [],
   "source": []
  },
  {
   "cell_type": "markdown",
   "id": "b9b34783",
   "metadata": {},
   "source": [
    "# Updating Profile \n",
    "\n"
   ]
  },
  {
   "cell_type": "code",
   "execution_count": 38,
   "id": "dfd99768",
   "metadata": {},
   "outputs": [
    {
     "ename": "TypeError",
     "evalue": "'property' object is not callable",
     "output_type": "error",
     "traceback": [
      "\u001b[0;31m---------------------------------------------------------------------------\u001b[0m",
      "\u001b[0;31mTypeError\u001b[0m                                 Traceback (most recent call last)",
      "\u001b[0;32m<ipython-input-38-2cd86b4513e6>\u001b[0m in \u001b[0;36m<module>\u001b[0;34m\u001b[0m\n\u001b[0;32m----> 1\u001b[0;31m \u001b[0mapi2\u001b[0m \u001b[0;34m=\u001b[0m \u001b[0mtweepy\u001b[0m\u001b[0;34m.\u001b[0m\u001b[0mAPI\u001b[0m\u001b[0;34m.\u001b[0m\u001b[0mupdate_profile\u001b[0m\u001b[0;34m(\u001b[0m\u001b[0;34m[\u001b[0m\u001b[0;34m'jasonvero'\u001b[0m\u001b[0;34m]\u001b[0m\u001b[0;34m,\u001b[0m\u001b[0;34m[\u001b[0m\u001b[0;34m'test.com'\u001b[0m\u001b[0;34m]\u001b[0m\u001b[0;34m,\u001b[0m\u001b[0;34m[\u001b[0m\u001b[0;34m'also a test'\u001b[0m\u001b[0;34m]\u001b[0m\u001b[0;34m,\u001b[0m\u001b[0;34m[\u001b[0m\u001b[0;34m'#66DaysOfData'\u001b[0m\u001b[0;34m]\u001b[0m\u001b[0;34m)\u001b[0m\u001b[0;34m\u001b[0m\u001b[0;34m\u001b[0m\u001b[0m\n\u001b[0m",
      "\u001b[0;31mTypeError\u001b[0m: 'property' object is not callable"
     ]
    }
   ],
   "source": [
    "api2 = tweepy.API.update_profile(['jasonvero'],['test.com'],['also a test'],['#66DaysOfData'])"
   ]
  }
 ],
 "metadata": {
  "kernelspec": {
   "display_name": "Python 3",
   "language": "python",
   "name": "python3"
  },
  "language_info": {
   "codemirror_mode": {
    "name": "ipython",
    "version": 3
   },
   "file_extension": ".py",
   "mimetype": "text/x-python",
   "name": "python",
   "nbconvert_exporter": "python",
   "pygments_lexer": "ipython3",
   "version": "3.8.8"
  }
 },
 "nbformat": 4,
 "nbformat_minor": 5
}
